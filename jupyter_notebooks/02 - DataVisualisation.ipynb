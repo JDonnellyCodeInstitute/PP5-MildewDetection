{
  "cells": [
    {
      "cell_type": "markdown",
      "metadata": {
        "id": "0aStgWSO0E0E"
      },
      "source": [
        "# **Data Visualisation**"
      ]
    },
    {
      "cell_type": "markdown",
      "metadata": {
        "id": "1eLEkw5O0ECa"
      },
      "source": [
        "## Objectives\n",
        "\n",
        "* Visually differentiate a healthy cherry leaf from one with powdery mildew.\n",
        "\n",
        "## Inputs\n",
        "\n",
        "* input/datasets/cherry_leaf_dataset/cherry-leaves/test\n",
        "* input/datasets/cherry_leaf_dataset/cherry-leaves/train\n",
        "* input/datasets/cherry_leaf_dataset/cherry-leaves/validation\n",
        "\n",
        "## Outputs\n",
        "\n",
        "* Count of images per class in train/validation/test\n",
        "* Distribution plot of image widths and heights\n",
        "* Per‑class mean & variability visualisations\n",
        "* Difference map highlighting powdery mildew features\n",
        "* Sample montages of healthy vs. mildew leaves"
      ]
    },
    {
      "cell_type": "markdown",
      "metadata": {
        "id": "9uWZXH9LwoQg"
      },
      "source": [
        "---"
      ]
    },
    {
      "cell_type": "markdown",
      "metadata": {},
      "source": [
        "## Imports"
      ]
    },
    {
      "cell_type": "code",
      "execution_count": 1,
      "metadata": {},
      "outputs": [],
      "source": [
        "import os\n",
        "import pandas as pd\n",
        "import numpy as np\n",
        "import matplotlib.pyplot as plt\n",
        "import seaborn as sns\n",
        "import joblib\n",
        "sns.set_style(\"white\")\n",
        "from matplotlib.image import imread"
      ]
    },
    {
      "cell_type": "markdown",
      "metadata": {
        "id": "cqP-UeN-z3i2"
      },
      "source": [
        "## Change working directory"
      ]
    },
    {
      "cell_type": "markdown",
      "metadata": {},
      "source": [
        "* We update the working directory as in Notebook 01."
      ]
    },
    {
      "cell_type": "code",
      "execution_count": 2,
      "metadata": {
        "id": "wZfF_j-Bz3i4",
        "outputId": "66943449-1436-4c3d-85c7-b85f9f78349b"
      },
      "outputs": [
        {
          "data": {
            "text/plain": [
              "'/workspaces/PP5-MildewDetection/jupyter_notebooks'"
            ]
          },
          "execution_count": 2,
          "metadata": {},
          "output_type": "execute_result"
        }
      ],
      "source": [
        "current_dir = os.getcwd()\n",
        "current_dir"
      ]
    },
    {
      "cell_type": "code",
      "execution_count": 3,
      "metadata": {
        "id": "TwHsQRWjz3i9",
        "outputId": "86849db3-cd2f-4cc5-ebb8-2d0caafa1a2c"
      },
      "outputs": [
        {
          "name": "stdout",
          "output_type": "stream",
          "text": [
            "You set a new current directory\n"
          ]
        }
      ],
      "source": [
        "os.chdir(os.path.dirname(current_dir))\n",
        "print(\"You set a new current directory\")"
      ]
    },
    {
      "cell_type": "markdown",
      "metadata": {
        "id": "M_xPk_Ijz3i-"
      },
      "source": [
        "Confirm the new current directory"
      ]
    },
    {
      "cell_type": "code",
      "execution_count": null,
      "metadata": {
        "id": "vz3S-_kjz3jA",
        "outputId": "00b79ae4-75d0-4a96-d193-ac9ef9847ea2"
      },
      "outputs": [
        {
          "data": {
            "text/plain": [
              "'/workspaces/PP5-MildewDetection'"
            ]
          },
          "execution_count": 4,
          "metadata": {},
          "output_type": "execute_result"
        }
      ],
      "source": [
        "current_dir = os.getcwd()\n",
        "current_dir"
      ]
    },
    {
      "cell_type": "markdown",
      "metadata": {},
      "source": [
        "## Set Train, Validation and Test Paths"
      ]
    },
    {
      "cell_type": "code",
      "execution_count": 5,
      "metadata": {},
      "outputs": [],
      "source": [
        "my_data_dir = 'input/datasets/cherry_leaf_dataset/cherry-leaves'\n",
        "train_path = my_data_dir + '/train'\n",
        "val_path = my_data_dir + '/validation'\n",
        "test_path = my_data_dir + '/test'"
      ]
    },
    {
      "cell_type": "markdown",
      "metadata": {},
      "source": [
        "## Set Output Directory"
      ]
    },
    {
      "cell_type": "code",
      "execution_count": 6,
      "metadata": {},
      "outputs": [
        {
          "name": "stdout",
          "output_type": "stream",
          "text": [
            "Saving all figures into: outputs/v1/figures\n"
          ]
        }
      ],
      "source": [
        "from pathlib import Path\n",
        "\n",
        "# versioning & output directory\n",
        "version = \"v1\"\n",
        "base_out = Path(\"outputs\") / version\n",
        "figures_out = base_out / \"figures\"\n",
        "\n",
        "# create folders if they don’t exist\n",
        "figures_out.mkdir(parents=True, exist_ok=True)\n",
        "\n",
        "print(f\"Saving all figures into: {figures_out}\")\n"
      ]
    },
    {
      "cell_type": "markdown",
      "metadata": {},
      "source": [
        "## Set Label Names"
      ]
    },
    {
      "cell_type": "code",
      "execution_count": 7,
      "metadata": {},
      "outputs": [
        {
          "name": "stdout",
          "output_type": "stream",
          "text": [
            "Labels: ['healthy', 'powdery_mildew']\n"
          ]
        }
      ],
      "source": [
        "labels = sorted(\n",
        "    [p.name for p in Path(train_path).iterdir() if p.is_dir()]\n",
        ")\n",
        "print(\"Labels:\", labels)"
      ]
    },
    {
      "cell_type": "markdown",
      "metadata": {},
      "source": [
        "---"
      ]
    },
    {
      "cell_type": "markdown",
      "metadata": {
        "id": "-mavJ8DibrcQ"
      },
      "source": [
        "# Visualisation of Image Data"
      ]
    },
    {
      "cell_type": "markdown",
      "metadata": {},
      "source": [
        "---"
      ]
    },
    {
      "cell_type": "markdown",
      "metadata": {},
      "source": [
        "## Class-count Summary - Ensuring Balance\n",
        "\n",
        "* The below plots the number of images per class in each split (test, train, validate).\n",
        "* If the bars are roughly the same height we can be confident our data is balanced.\n",
        "* If there are significant discrepancies we may need to apply balancing techniques such as oversampling or undersampling."
      ]
    },
    {
      "cell_type": "code",
      "execution_count": 9,
      "metadata": {},
      "outputs": [
        {
          "data": {
            "image/png": "[encoded data removed]",
            "text/plain": [
              "<Figure size 800x400 with 1 Axes>"
            ]
          },
          "metadata": {},
          "output_type": "display_data"
        }
      ],
      "source": [
        "# Wrap inputs in Path to iterate over\n",
        "train_dir = Path(train_path)\n",
        "val_dir = Path(val_path)\n",
        "test_dir = Path(test_path)\n",
        "\n",
        "# Count images per class for each split\n",
        "splits = {\n",
        "    'train': train_dir,\n",
        "    'validation': val_dir,\n",
        "    'test': test_dir\n",
        "}\n",
        "\n",
        "# build counts\n",
        "counts = []\n",
        "for split_name, split_dir in splits.items():\n",
        "    for cls in labels:\n",
        "        n = len(list((split_dir/cls).glob('*')))  # count all files\n",
        "        counts.append({'split': split_name, 'class': cls, 'count': n})\n",
        "\n",
        "df_counts = pd.DataFrame(counts)\n",
        "\n",
        "# pivot for plotting\n",
        "df_pivot = df_counts.pivot(index='class', columns='split', values='count')\n",
        "\n",
        "# plot\n",
        "ax = df_pivot.plot(kind='bar', figsize=(8,4))\n",
        "ax.set_title('Number of Images per Class & Split')\n",
        "ax.set_xlabel('Class')\n",
        "ax.set_ylabel('Count')\n",
        "plt.xticks(rotation=0)\n",
        "plt.legend(title='Dataset Split')\n",
        "plt.tight_layout()\n",
        "\n",
        "# save\n",
        "plt.savefig(figures_out/'class_counts.png')\n",
        "plt.show()"
      ]
    },
    {
      "cell_type": "markdown",
      "metadata": {},
      "source": [
        "The bar chart confirms that both “healthy” and “powdery_mildew” classes are closely balanced across the train, validation, and test splits.\n",
        "\n",
        "With class counts verified, we can proceed knowing our dataset isn’t biased by uneven class representation."
      ]
    },
    {
      "cell_type": "markdown",
      "metadata": {
        "id": "ZY3l0-AxO93d"
      },
      "source": [
        "---"
      ]
    },
    {
      "cell_type": "markdown",
      "metadata": {
        "id": "uFQo3ycuO-v6"
      },
      "source": [
        "# Section 2"
      ]
    },
    {
      "cell_type": "markdown",
      "metadata": {},
      "source": [
        "Section 2 content"
      ]
    },
    {
      "cell_type": "code",
      "execution_count": null,
      "metadata": {},
      "outputs": [],
      "source": []
    },
    {
      "cell_type": "markdown",
      "metadata": {},
      "source": [
        "---"
      ]
    },
    {
      "cell_type": "markdown",
      "metadata": {},
      "source": [
        "NOTE"
      ]
    },
    {
      "cell_type": "markdown",
      "metadata": {},
      "source": [
        "* You may add as many sections as you want, as long as it supports your project workflow.\n",
        "* All notebook's cells should be run top-down (you can't create a dynamic wherein a given point you need to go back to a previous cell to execute some task, like go back to a previous cell and refresh a variable content)"
      ]
    },
    {
      "cell_type": "markdown",
      "metadata": {},
      "source": [
        "---"
      ]
    },
    {
      "cell_type": "markdown",
      "metadata": {
        "id": "ltNetd085qHf"
      },
      "source": [
        "# Push files to Repo"
      ]
    },
    {
      "cell_type": "markdown",
      "metadata": {},
      "source": [
        "* If you don't need to push files to Repo, you may replace this section with \"Conclusions and Next Steps\" and state your conclusions and next steps."
      ]
    },
    {
      "cell_type": "code",
      "execution_count": null,
      "metadata": {
        "id": "aKlnIozA4eQO",
        "outputId": "fd09bc1f-adb1-4511-f6ce-492a6af570c0"
      },
      "outputs": [],
      "source": [
        "import os\n",
        "try:\n",
        "    # create here your folder\n",
        "    # os.makedirs(name='')\n",
        "except Exception as e:\n",
        "    print(e)\n"
      ]
    }
  ],
  "metadata": {
    "accelerator": "GPU",
    "colab": {
      "name": "Data Practitioner Jupyter Notebook.ipynb",
      "provenance": [],
      "toc_visible": true
    },
    "kernelspec": {
      "display_name": "3.12.1",
      "language": "python",
      "name": "python3"
    },
    "language_info": {
      "codemirror_mode": {
        "name": "ipython",
        "version": 3
      },
      "file_extension": ".py",
      "mimetype": "text/x-python",
      "name": "python",
      "nbconvert_exporter": "python",
      "pygments_lexer": "ipython3",
      "version": "3.12.1"
    },
    "orig_nbformat": 2
  },
  "nbformat": 4,
  "nbformat_minor": 2
}
