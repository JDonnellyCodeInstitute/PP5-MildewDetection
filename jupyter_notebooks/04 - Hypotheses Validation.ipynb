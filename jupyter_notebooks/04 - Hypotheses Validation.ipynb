{
 "cells": [
  {
   "cell_type": "markdown",
   "id": "54f9a7e2",
   "metadata": {},
   "source": [
    "# Hypotheses Validation\n",
    "\n",
    "## Objectives\n",
    "\n",
    "- Test whether pixel‐intensity **variance** differs between healthy and mildew leaves.  \n",
    "- Test whether pixel‐intensity **mean** differs between healthy and mildew leaves.  \n",
    "- Test whether the model’s **recall** on mildew images is significantly above 50 %.\n",
    "\n",
    "## Inputs\n",
    "\n",
    "- `outputs/v1/image_stats.csv` — per-image mean & variance values  \n",
    "- `outputs/v1/y_true.npy` — true labels for each test image (0=healthy, 1=mildew)  \n",
    "- `outputs/v1/y_pred.npy` — model’s predicted labels for each test image  \n",
    "- `outputs/v1/metrics.json` — overall recall on the mildew class  \n",
    "\n",
    "## Outputs\n",
    "\n",
    "- `outputs/v1/hypothesis_tests.json` — t-statistics and p-values for each hypothesis  \n",
    "- Notebook print-outs of each t-test result with a clear “Reject/Fail to reject” conclusion  "
   ]
  },
  {
   "cell_type": "markdown",
   "id": "c5643c5e",
   "metadata": {},
   "source": [
    "---"
   ]
  },
  {
   "cell_type": "markdown",
   "id": "53b9f87f",
   "metadata": {},
   "source": [
    "**Note:** Hypothesis 4 (Learning-Rate & EarlyStopping) was evaluated in Notebook 03: Modelling and Evaluating via comparative training runs (Run 1 vs Run 2) and detailed learning-curve analysis. The results (smoother convergence and higher validation accuracy with a lower learning rate and EarlyStopping) satisfy that hypothesis, so this notebook focuses on the remaining statistical hypotheses (1–3)."
   ]
  },
  {
   "cell_type": "markdown",
   "id": "469de24e",
   "metadata": {},
   "source": [
    "---"
   ]
  },
  {
   "cell_type": "markdown",
   "id": "8e6e90b6",
   "metadata": {},
   "source": [
    "## Imports and Setup"
   ]
  },
  {
   "cell_type": "code",
   "execution_count": 4,
   "id": "f1fd8df5",
   "metadata": {},
   "outputs": [
    {
     "name": "stderr",
     "output_type": "stream",
     "text": [
      "2025-05-15 10:33:53.799952: I tensorflow/core/util/port.cc:113] oneDNN custom operations are on. You may see slightly different numerical results due to floating-point round-off errors from different computation orders. To turn them off, set the environment variable `TF_ENABLE_ONEDNN_OPTS=0`.\n",
      "2025-05-15 10:33:54.786169: I tensorflow/core/platform/cpu_feature_guard.cc:210] This TensorFlow binary is optimized to use available CPU instructions in performance-critical operations.\n",
      "To enable the following instructions: AVX2 AVX512F AVX512_VNNI FMA, in other operations, rebuild TensorFlow with the appropriate compiler flags.\n"
     ]
    },
    {
     "name": "stdout",
     "output_type": "stream",
     "text": [
      "Working directory: /workspaces/PP5-MildewDetection\n"
     ]
    }
   ],
   "source": [
    "import os, sys\n",
    "from pathlib import Path\n",
    "\n",
    "cwd = Path.cwd()\n",
    "if cwd.name == \"jupyter_notebooks\":\n",
    "    os.chdir(cwd.parent)\n",
    "sys.path.insert(0, str(Path.cwd() / \"src\"))\n",
    "\n",
    "import json\n",
    "import pandas as pd\n",
    "import numpy as np\n",
    "from scipy import stats\n",
    "from tensorflow.keras.models import load_model\n",
    "from tensorflow.keras.preprocessing.image import ImageDataGenerator\n",
    "\n",
    "print(\"Working directory:\", Path.cwd())\n"
   ]
  },
  {
   "cell_type": "markdown",
   "id": "e7d20238",
   "metadata": {},
   "source": [
    "---"
   ]
  },
  {
   "cell_type": "markdown",
   "id": "0353ddee",
   "metadata": {},
   "source": [
    "## Load Image Statistics for Mean/Variance Tests"
   ]
  },
  {
   "cell_type": "code",
   "execution_count": 6,
   "id": "e38972e6",
   "metadata": {},
   "outputs": [],
   "source": [
    "df_stats = pd.read_csv(Path(\"outputs\") / \"v1\" / \"image_stats.csv\")\n",
    "healthy = df_stats[df_stats[\"class\"] == \"healthy\"]\n",
    "mildew  = df_stats[df_stats[\"class\"] == \"powdery_mildew\"]"
   ]
  },
  {
   "cell_type": "markdown",
   "id": "2429efd7",
   "metadata": {},
   "source": [
    "---"
   ]
  },
  {
   "cell_type": "markdown",
   "id": "079f96d7",
   "metadata": {},
   "source": [
    "### Hypothesis 2: Variance Difference"
   ]
  },
  {
   "cell_type": "markdown",
   "id": "95e5232d",
   "metadata": {},
   "source": [
    "**H₀:** μ_var(healthy) = μ_var(mildew)  \n",
    "**H₁:** μ_var(healthy) ≠ μ_var(mildew)  \n",
    "*Test:* Welch’s two-sample t-test  \n",
    "*α:* 0.05"
   ]
  },
  {
   "cell_type": "markdown",
   "id": "fcd0ccee",
   "metadata": {},
   "source": [
    "### Two-sample t-test on variance"
   ]
  },
  {
   "cell_type": "code",
   "execution_count": 8,
   "id": "78cefcef",
   "metadata": {},
   "outputs": [
    {
     "name": "stdout",
     "output_type": "stream",
     "text": [
      "Variance test: t = 45.7180, p = 0.0000\n",
      "Mean variance (healthy): 0.033343815199180414\n",
      "Mean variance (mildew) : 0.021813304403305776\n"
     ]
    }
   ],
   "source": [
    "t_var, p_var = stats.ttest_ind(\n",
    "    healthy[\"variance\"],\n",
    "    mildew[\"variance\"],\n",
    "    equal_var=False\n",
    ")\n",
    "print(f\"Variance test: t = {t_var:.4f}, p = {p_var:.4f}\")\n",
    "print(\"Mean variance (healthy):\", healthy[\"variance\"].mean())\n",
    "print(\"Mean variance (mildew) :\", mildew[\"variance\"].mean())"
   ]
  },
  {
   "cell_type": "markdown",
   "id": "9b3ac71f",
   "metadata": {},
   "source": [
    "**Conclusion:**\n",
    "We reject H₀ at α = 0.05 (p < 0.001), confirming that pixel‐intensity variance differs significantly, with powdery-mildew leaves showing higher variance than healthy leaves."
   ]
  },
  {
   "cell_type": "markdown",
   "id": "90b82bd6",
   "metadata": {},
   "source": [
    "---"
   ]
  },
  {
   "cell_type": "markdown",
   "id": "f52cd9b7",
   "metadata": {},
   "source": [
    "### Hypothesis 3: Mean Intensity Difference"
   ]
  },
  {
   "cell_type": "markdown",
   "id": "6262f4fa",
   "metadata": {},
   "source": [
    "**H₀:** μ_mean(healthy) = μ_mean(mildew)  \n",
    "**H₁:** μ_mean(healthy) ≠ μ_mean(mildew)  \n",
    "*Test:* Welch’s two-sample t-test  \n",
    "*α:* 0.05"
   ]
  },
  {
   "cell_type": "markdown",
   "id": "3f1a3fad",
   "metadata": {},
   "source": [
    "### Two-sample t-test on mean"
   ]
  },
  {
   "cell_type": "code",
   "execution_count": 9,
   "id": "1611faa0",
   "metadata": {},
   "outputs": [
    {
     "name": "stdout",
     "output_type": "stream",
     "text": [
      "Mean-intensity test: t = 32.4529, p = 0.0000\n"
     ]
    }
   ],
   "source": [
    "t_mean, p_mean = stats.ttest_ind(\n",
    "    healthy[\"mean\"],\n",
    "    mildew[\"mean\"],\n",
    "    equal_var=False\n",
    ")\n",
    "print(f\"Mean-intensity test: t = {t_mean:.4f}, p = {p_mean:.4f}\")"
   ]
  },
  {
   "cell_type": "markdown",
   "id": "f0a0de52",
   "metadata": {},
   "source": [
    "**Conclusion:**\n",
    "We reject H₀ at α = 0.05 (p < 0.001), confirming there is a significant mean intensity difference."
   ]
  },
  {
   "cell_type": "markdown",
   "id": "8e399693",
   "metadata": {},
   "source": [
    "---"
   ]
  },
  {
   "cell_type": "markdown",
   "id": "c32948eb",
   "metadata": {},
   "source": [
    "### Hypothesis 1: Model Recall vs. Random Baseline"
   ]
  },
  {
   "cell_type": "markdown",
   "id": "e8328473",
   "metadata": {},
   "source": [
    "**H₀:** Recall = 0.50  \n",
    "**H₁:** Recall > 0.50  \n",
    "*Test:* One-sample t-test against 0.5  \n",
    "*α:* 0.05"
   ]
  },
  {
   "cell_type": "code",
   "execution_count": 11,
   "id": "e0309798",
   "metadata": {},
   "outputs": [
    {
     "name": "stderr",
     "output_type": "stream",
     "text": [
      "WARNING:absl:Compiled the loaded model, but the compiled metrics have yet to be built. `model.compile_metrics` will be empty until you train or evaluate the model.\n"
     ]
    },
    {
     "name": "stdout",
     "output_type": "stream",
     "text": [
      "Found 844 images belonging to 2 classes.\n"
     ]
    },
    {
     "name": "stderr",
     "output_type": "stream",
     "text": [
      "/home/cistudent/.local/lib/python3.12/site-packages/keras/src/trainers/data_adapters/py_dataset_adapter.py:121: UserWarning: Your `PyDataset` class should call `super().__init__(**kwargs)` in its constructor. `**kwargs` can include `workers`, `use_multiprocessing`, `max_queue_size`. Do not pass these arguments to `fit()`, as they will be ignored.\n",
      "  self._warn_if_super_not_called()\n"
     ]
    },
    {
     "name": "stdout",
     "output_type": "stream",
     "text": [
      "Recall test: t = 147.9611, p = 0.0000\n"
     ]
    }
   ],
   "source": [
    "# Load model and compute recall array\n",
    "model = load_model(Path(\"models\") / \"run2_model.h5\")\n",
    "\n",
    "test_datagen = ImageDataGenerator(rescale=1/255.0)\n",
    "test_iter = test_datagen.flow_from_directory(\n",
    "    Path(\"input/datasets/cherry_leaf_dataset/cherry-leaves\") / \"test\",\n",
    "    target_size=(256,256),\n",
    "    color_mode=\"rgb\",\n",
    "    batch_size=32,\n",
    "    class_mode=\"binary\",\n",
    "    shuffle=False\n",
    ")\n",
    "\n",
    "# Predictions and true labels\n",
    "probs = model.predict(test_iter, verbose=0).flatten()\n",
    "y_true = test_iter.classes\n",
    "y_pred = (probs >= 0.5).astype(int)\n",
    "\n",
    "# Extract mildew recall samples\n",
    "mildew_idx = test_iter.class_indices['powdery_mildew']\n",
    "mask = (y_true == mildew_idx)\n",
    "correct = (y_true[mask] == y_pred[mask]).astype(int)\n",
    "\n",
    "# One-sample t-test vs 0.5\n",
    "from scipy.stats import ttest_1samp\n",
    "t_rec, p_rec = ttest_1samp(correct, popmean=0.5)\n",
    "print(f\"Recall test: t = {t_rec:.4f}, p = {p_rec:.4f}\")"
   ]
  },
  {
   "cell_type": "markdown",
   "id": "95192a6c",
   "metadata": {},
   "source": [
    "**Conclusion:**  \n",
    "- As p < 0.05 we can Reject H₀: recall is significantly above random."
   ]
  },
  {
   "cell_type": "markdown",
   "id": "6832e9a6",
   "metadata": {},
   "source": [
    "---"
   ]
  },
  {
   "cell_type": "markdown",
   "id": "ab60f4f1",
   "metadata": {},
   "source": [
    "### Save Results to JSON"
   ]
  },
  {
   "cell_type": "code",
   "execution_count": 12,
   "id": "68be9b70",
   "metadata": {},
   "outputs": [
    {
     "name": "stdout",
     "output_type": "stream",
     "text": [
      "Saved hypothesis_tests.json\n"
     ]
    }
   ],
   "source": [
    "results = {\n",
    "    \"t_var\": t_var,  \"p_var\": p_var,\n",
    "    \"t_mean\": t_mean, \"p_mean\": p_mean,\n",
    "    \"t_rec\": t_rec,  \"p_rec\": p_rec,\n",
    "    \"n_mildew\": int(mask.sum())\n",
    "}\n",
    "with open(Path(\"outputs\")/\"v1\"/\"hypothesis_tests.json\", 'w') as f:\n",
    "    json.dump(results, f, indent=4)\n",
    "print(\"Saved hypothesis_tests.json\")"
   ]
  }
 ],
 "metadata": {
  "kernelspec": {
   "display_name": "3.12.1",
   "language": "python",
   "name": "python3"
  },
  "language_info": {
   "codemirror_mode": {
    "name": "ipython",
    "version": 3
   },
   "file_extension": ".py",
   "mimetype": "text/x-python",
   "name": "python",
   "nbconvert_exporter": "python",
   "pygments_lexer": "ipython3",
   "version": "3.12.1"
  }
 },
 "nbformat": 4,
 "nbformat_minor": 5
}
